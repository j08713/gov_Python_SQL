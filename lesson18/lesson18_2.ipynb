{
 "cells": [
  {
   "cell_type": "code",
   "execution_count": 2,
   "metadata": {},
   "outputs": [
    {
     "ename": "SyntaxError",
     "evalue": "invalid syntax (3186462937.py, line 7)",
     "output_type": "error",
     "traceback": [
      "\u001b[0;36m  Cell \u001b[0;32mIn[2], line 7\u001b[0;36m\u001b[0m\n\u001b[0;31m    with = psycopg2.connect(os.environ['POSTGRE_PASSWORD']) as conn:\u001b[0m\n\u001b[0m         ^\u001b[0m\n\u001b[0;31mSyntaxError\u001b[0m\u001b[0;31m:\u001b[0m invalid syntax\n"
     ]
    }
   ],
   "source": [
    "#建立資料表\n",
    "import psycopg2\n",
    "import os\n",
    "from dotenv import load_dotenv\n",
    "load_dotenv()\n",
    "\n",
    "with = psycopg2.connect(os.environ['POSTGRE_PASSWORD']) as conn:\n",
    "    with conn.cursor() as cursor:\n",
    "        #建立資料表\n",
    "        sql = '''\n",
    "            CREATE TABLE IF NOT EXISTS 站點資訊(\n",
    "                站點編號 VARCHAR(10),\n",
    "                站點名稱 VARCHAR(30) NOT NULL,\n",
    "                行政區 VARCHAR(10) NOT NULL,\n",
    "                站點地址 VARCHAR(50),\n",
    "                lat NUMERIC(15,11),\n",
    "                lng NUMERIC(15,11),\n",
    "                PRIMARY KEY(站點編號)\n",
    "            );\n",
    "\n",
    "            CREATE TABLE IF NOT EXISTS youbike(\n",
    "                日期 TIMESTAMP,\n",
    "                編號 VARCHAR(10),\n",
    "                總車輛 INTEGER,\n",
    "                可借 INTEGER,\n",
    "                可還 INTEGER,\n",
    "                活動 BOOLEAN,\n",
    "                PRIMARY KEY(日期,編號),\n",
    "                FOREIGN KEY(編號) REFERENCES 站點資訊(站點編號)\n",
    "                ON DELETE CASCADE\n",
    "                ON UPDATE CASCADE\n",
    "            );\n",
    "        '''\n",
    "        cursor.execute(sql)\n",
    "print('資料表建立完成')"
   ]
  }
 ],
 "metadata": {
  "kernelspec": {
   "display_name": "Python 3",
   "language": "python",
   "name": "python3"
  },
  "language_info": {
   "codemirror_mode": {
    "name": "ipython",
    "version": 3
   },
   "file_extension": ".py",
   "mimetype": "text/x-python",
   "name": "python",
   "nbconvert_exporter": "python",
   "pygments_lexer": "ipython3",
   "version": "3.10.13"
  }
 },
 "nbformat": 4,
 "nbformat_minor": 2
}

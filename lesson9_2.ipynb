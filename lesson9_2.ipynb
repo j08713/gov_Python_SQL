{
 "cells": [
  {
   "cell_type": "code",
   "execution_count": 2,
   "metadata": {},
   "outputs": [],
   "source": [
    "#自訂function\n",
    "def say_hello():\n",
    "    print(\"Hello\")"
   ]
  },
  {
   "cell_type": "code",
   "execution_count": 3,
   "metadata": {},
   "outputs": [
    {
     "name": "stdout",
     "output_type": "stream",
     "text": [
      "Hello\n"
     ]
    }
   ],
   "source": [
    "#呼叫function,引數值\n",
    "say_hello()"
   ]
  },
  {
   "cell_type": "code",
   "execution_count": 4,
   "metadata": {},
   "outputs": [],
   "source": [
    "def say_hello(name):\n",
    "    print(f'Hello!{name}')"
   ]
  },
  {
   "cell_type": "code",
   "execution_count": 6,
   "metadata": {},
   "outputs": [
    {
     "name": "stdout",
     "output_type": "stream",
     "text": [
      "Hello!賴安安\n"
     ]
    }
   ],
   "source": [
    "#引數值的呼叫\n",
    "say_hello(\"賴安安\")"
   ]
  },
  {
   "cell_type": "code",
   "execution_count": 7,
   "metadata": {},
   "outputs": [
    {
     "name": "stdout",
     "output_type": "stream",
     "text": [
      "Hello!賴安安\n"
     ]
    }
   ],
   "source": [
    "#引數名稱的呼叫\n",
    "say_hello(name=\"賴安安\")"
   ]
  },
  {
   "cell_type": "code",
   "execution_count": 9,
   "metadata": {},
   "outputs": [],
   "source": [
    "def menu(wine,entree,dessert):\n",
    "    print(f'前酒:{wine}')\n",
    "    print(f'主餐:{entree}')\n",
    "    print(f'甜點:{dessert}')\n",
    "\n",
    "    "
   ]
  },
  {
   "cell_type": "code",
   "execution_count": 10,
   "metadata": {},
   "outputs": [
    {
     "name": "stdout",
     "output_type": "stream",
     "text": [
      "前酒:白酒\n",
      "主餐:牛排\n",
      "甜點:蛋糕\n"
     ]
    }
   ],
   "source": [
    "#引數值的呼叫，必須依照參數的順序\n",
    "menu('白酒','牛排','蛋糕')"
   ]
  },
  {
   "cell_type": "code",
   "execution_count": 12,
   "metadata": {},
   "outputs": [
    {
     "name": "stdout",
     "output_type": "stream",
     "text": [
      "前酒:白酒\n",
      "主餐:牛排\n",
      "甜點:蛋糕\n"
     ]
    }
   ],
   "source": [
    "#引數名稱的呼叫，不需要依順序\n",
    "menu(entree=\"牛排\",dessert=\"蛋糕\",wine=\"白酒\")\n"
   ]
  },
  {
   "cell_type": "code",
   "execution_count": 15,
   "metadata": {},
   "outputs": [
    {
     "name": "stdout",
     "output_type": "stream",
     "text": [
      "前酒:白酒\n",
      "主餐:牛排\n",
      "甜點:蛋糕\n"
     ]
    }
   ],
   "source": [
    "#混合呼叫\n",
    "#前面使用引數值\n",
    "#後面使用引數名稱呼叫\n",
    "menu('白酒',dessert='蛋糕',entree='牛排')"
   ]
  },
  {
   "cell_type": "code",
   "execution_count": 16,
   "metadata": {},
   "outputs": [],
   "source": [
    "#參數可以有type hint\n",
    "def menu(wine:str,entree:str,dessert:str):\n",
    "    print(f'前酒:{wine}')\n",
    "    print(f'主餐:{entree}')\n",
    "    print(f'甜點:{dessert}')"
   ]
  },
  {
   "cell_type": "code",
   "execution_count": 17,
   "metadata": {},
   "outputs": [
    {
     "name": "stdout",
     "output_type": "stream",
     "text": [
      "前酒:白酒\n",
      "主餐:牛排\n",
      "甜點:蛋糕\n"
     ]
    }
   ],
   "source": [
    "menu(entree=\"牛排\",dessert=\"蛋糕\",wine=\"白酒\")"
   ]
  },
  {
   "cell_type": "code",
   "execution_count": 19,
   "metadata": {},
   "outputs": [],
   "source": [
    "#function傳出的值\n",
    "def menu(wine:str,entree:str,dessert:str)->dict[str,str]:\n",
    "    return{'前酒':wine,'主餐':entree,'甜點':dessert}"
   ]
  },
  {
   "cell_type": "code",
   "execution_count": 20,
   "metadata": {},
   "outputs": [
    {
     "data": {
      "text/plain": [
       "{'前酒': '白酒', '主餐': '牛排', '甜點': '蛋糕'}"
      ]
     },
     "execution_count": 20,
     "metadata": {},
     "output_type": "execute_result"
    }
   ],
   "source": [
    "my_menu = menu(entree=\"牛排\",dessert=\"蛋糕\",wine=\"白酒\")\n",
    "my_menu"
   ]
  },
  {
   "cell_type": "code",
   "execution_count": 21,
   "metadata": {},
   "outputs": [],
   "source": [
    "#參數的default value\n",
    "def menu(wine:str,entree:str,dessert:str='蛋糕')->dict[str,str]:\n",
    "    return{'前酒':wine,'主餐':entree,'甜點':dessert}"
   ]
  },
  {
   "cell_type": "code",
   "execution_count": 25,
   "metadata": {},
   "outputs": [
    {
     "name": "stdout",
     "output_type": "stream",
     "text": [
      "{'前酒': '白酒', '主餐': '牛排', '甜點': '蛋糕'}\n",
      "{'前酒': '白酒', '主餐': '牛排', '甜點': '水果'}\n"
     ]
    }
   ],
   "source": [
    "print(menu('白酒','牛排'))\n",
    "print(menu('白酒','牛排',dessert='水果'))"
   ]
  },
  {
   "cell_type": "code",
   "execution_count": 26,
   "metadata": {},
   "outputs": [],
   "source": [
    "def menu(wine:str,entree:str='牛排',dessert:str='蛋糕')->dict[str,str]:\n",
    "    return{'前酒':wine,'主餐':entree,'甜點':dessert}"
   ]
  },
  {
   "cell_type": "code",
   "execution_count": 33,
   "metadata": {},
   "outputs": [
    {
     "name": "stdout",
     "output_type": "stream",
     "text": [
      "{'前酒': '白酒', '主餐': '牛排', '甜點': '蛋糕'}\n",
      "{'前酒': '白酒', '主餐': '牛排', '甜點': '水果'}\n",
      "{'前酒': '白酒', '主餐': '雞排', '甜點': '水果'}\n"
     ]
    }
   ],
   "source": [
    "print(menu('白酒'))\n",
    "print(menu('白酒',dessert='水果'))\n",
    "print(menu('白酒',dessert='水果',entree='雞排'))"
   ]
  },
  {
   "cell_type": "code",
   "execution_count": 34,
   "metadata": {},
   "outputs": [
    {
     "data": {
      "text/plain": [
       "{'前酒': '白酒', '主餐': '牛排', '甜點': '蛋糕'}"
      ]
     },
     "execution_count": 34,
     "metadata": {},
     "output_type": "execute_result"
    }
   ],
   "source": [
    "def menu(wine:str='白酒',entree:str='牛排',dessert:str='蛋糕')->dict[str,str]:\n",
    "    return{'前酒':wine,'主餐':entree,'甜點':dessert}\n",
    "\n",
    "menu()"
   ]
  },
  {
   "cell_type": "code",
   "execution_count": 37,
   "metadata": {},
   "outputs": [
    {
     "name": "stdout",
     "output_type": "stream",
     "text": [
      "()\n",
      "('白酒', '紅酒', '黑酒')\n"
     ]
    }
   ],
   "source": [
    "#沒有限定數量的引數值\n",
    "def menu(*args):\n",
    "    print(args)\n",
    "\n",
    "menu()\n",
    "menu('白酒','紅酒','黑酒')"
   ]
  },
  {
   "cell_type": "code",
   "execution_count": 39,
   "metadata": {},
   "outputs": [
    {
     "name": "stdout",
     "output_type": "stream",
     "text": [
      "{}\n",
      "{'酒1': '白酒', '酒2': '紅酒', '酒3': '黑酒'}\n"
     ]
    }
   ],
   "source": [
    "#沒有限定數量的引數名稱\n",
    "def menu(**kwargs):\n",
    "    print(kwargs)\n",
    "\n",
    "menu()\n",
    "menu(酒1='白酒',酒2='紅酒',酒3='黑酒')"
   ]
  },
  {
   "cell_type": "code",
   "execution_count": 40,
   "metadata": {},
   "outputs": [
    {
     "name": "stdout",
     "output_type": "stream",
     "text": [
      "1-2-3.0-True.\n"
     ]
    }
   ],
   "source": [
    "print('1',2,3.0,True,sep='-',end='.\\n')"
   ]
  }
 ],
 "metadata": {
  "kernelspec": {
   "display_name": "Python 3",
   "language": "python",
   "name": "python3"
  },
  "language_info": {
   "codemirror_mode": {
    "name": "ipython",
    "version": 3
   },
   "file_extension": ".py",
   "mimetype": "text/x-python",
   "name": "python",
   "nbconvert_exporter": "python",
   "pygments_lexer": "ipython3",
   "version": "3.10.13"
  }
 },
 "nbformat": 4,
 "nbformat_minor": 2
}
